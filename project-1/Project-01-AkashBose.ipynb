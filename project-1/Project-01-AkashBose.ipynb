{
 "cells": [
  {
   "cell_type": "markdown",
   "metadata": {},
   "source": [
    "# PROBLEM 1 "
   ]
  },
  {
   "cell_type": "code",
   "execution_count": 1,
   "metadata": {
    "collapsed": false
   },
   "outputs": [
    {
     "name": "stdout",
     "output_type": "stream",
     "text": [
      "--2016-09-22 21:50:49--  https://raw.githubusercontent.com/gwsb-istm-6212-fall-2016/syllabus-and-schedule/master/projects/project-01/women.txt\n",
      "Resolving raw.githubusercontent.com (raw.githubusercontent.com)... 151.101.32.133\n",
      "Connecting to raw.githubusercontent.com (raw.githubusercontent.com)|151.101.32.133|:443... connected.\n",
      "HTTP request sent, awaiting response... 200 OK\n",
      "Length: 1053440 (1.0M) [text/plain]\n",
      "Saving to: ‘women.txt.4’\n",
      "\n",
      "women.txt.4         100%[===================>]   1.00M  1.82MB/s    in 0.6s    \n",
      "\n",
      "2016-09-22 21:50:50 (1.82 MB/s) - ‘women.txt.4’ saved [1053440/1053440]\n",
      "\n"
     ]
    }
   ],
   "source": [
    "!wget https://raw.githubusercontent.com/gwsb-istm-6212-fall-2016/syllabus-and-schedule/master/projects/project-01/women.txt"
   ]
  },
  {
   "cell_type": "markdown",
   "metadata": {},
   "source": [
    "Using the GREP command to search for the word (case insensitive), then split the search results into one word perline, finally the word count command counts the number of lines. "
   ]
  },
  {
   "cell_type": "code",
   "execution_count": 2,
   "metadata": {
    "collapsed": false
   },
   "outputs": [
    {
     "name": "stdout",
     "output_type": "stream",
     "text": [
      "1362\r\n"
     ]
    }
   ],
   "source": [
    "!cat women.txt | grep -w -i -oE 'Jo' | wc -l"
   ]
  },
  {
   "cell_type": "code",
   "execution_count": 3,
   "metadata": {
    "collapsed": false
   },
   "outputs": [
    {
     "name": "stdout",
     "output_type": "stream",
     "text": [
      "467\r\n"
     ]
    }
   ],
   "source": [
    "!cat women.txt | grep -w -i -oE 'Beth'| wc -l"
   ]
  },
  {
   "cell_type": "code",
   "execution_count": 4,
   "metadata": {
    "collapsed": false
   },
   "outputs": [
    {
     "name": "stdout",
     "output_type": "stream",
     "text": [
      "686\r\n"
     ]
    }
   ],
   "source": [
    "!cat women.txt | grep -w -i -oE 'Meg' | wc -l"
   ]
  },
  {
   "cell_type": "code",
   "execution_count": 5,
   "metadata": {
    "collapsed": false
   },
   "outputs": [
    {
     "name": "stdout",
     "output_type": "stream",
     "text": [
      "652\r\n"
     ]
    }
   ],
   "source": [
    "!cat women.txt | grep -w -i -oE 'Amy' | wc -l"
   ]
  },
  {
   "cell_type": "markdown",
   "metadata": {},
   "source": [
    "# PROBLEM 2"
   ]
  },
  {
   "cell_type": "code",
   "execution_count": 6,
   "metadata": {
    "collapsed": false
   },
   "outputs": [
    {
     "name": "stdout",
     "output_type": "stream",
     "text": [
      "--2016-09-22 21:50:57--  https://raw.githubusercontent.com/gwsb-istm-6212-fall-2016/syllabus-and-schedule/master/projects/project-01/romeo.txt\n",
      "Resolving raw.githubusercontent.com (raw.githubusercontent.com)... 151.101.32.133\n",
      "Connecting to raw.githubusercontent.com (raw.githubusercontent.com)|151.101.32.133|:443... connected.\n",
      "HTTP request sent, awaiting response... 200 OK\n",
      "Length: 178983 (175K) [text/plain]\n",
      "Saving to: ‘romeo.txt.4’\n",
      "\n",
      "romeo.txt.4         100%[===================>] 174.79K  --.-KB/s    in 0.1s    \n",
      "\n",
      "2016-09-22 21:50:58 (1.47 MB/s) - ‘romeo.txt.4’ saved [178983/178983]\n",
      "\n"
     ]
    }
   ],
   "source": [
    "!wget https://raw.githubusercontent.com/gwsb-istm-6212-fall-2016/syllabus-and-schedule/master/projects/project-01/romeo.txt"
   ]
  },
  {
   "cell_type": "markdown",
   "metadata": {},
   "source": [
    "Using the GREP command to search for a specific term, then split the search results into one word perline, finally the word count command counts the number of lines."
   ]
  },
  {
   "cell_type": "code",
   "execution_count": 7,
   "metadata": {
    "collapsed": false
   },
   "outputs": [
    {
     "name": "stdout",
     "output_type": "stream",
     "text": [
      "163\r\n"
     ]
    }
   ],
   "source": [
    "cat romeo.txt |  grep -oE \"Rom\\.\" | wc -l"
   ]
  },
  {
   "cell_type": "code",
   "execution_count": 8,
   "metadata": {
    "collapsed": false
   },
   "outputs": [
    {
     "name": "stdout",
     "output_type": "stream",
     "text": [
      "117\r\n"
     ]
    }
   ],
   "source": [
    "cat romeo.txt |  grep -oE \"Jul\\.\" | wc -l"
   ]
  },
  {
   "cell_type": "code",
   "execution_count": 9,
   "metadata": {
    "collapsed": false
   },
   "outputs": [
    {
     "name": "stdout",
     "output_type": "stream",
     "text": [
      "--2016-09-22 21:51:03--  https://raw.githubusercontent.com/gwsb-istm-6212-fall-2016/syllabus-and-schedule/master/projects/project-01/2016q1.csv.zip\n",
      "Resolving raw.githubusercontent.com (raw.githubusercontent.com)... 151.101.32.133\n",
      "Connecting to raw.githubusercontent.com (raw.githubusercontent.com)|151.101.32.133|:443... connected.\n",
      "HTTP request sent, awaiting response... 200 OK\n",
      "Length: 10643003 (10M) [application/octet-stream]\n",
      "Saving to: ‘2016q1.csv.zip.4’\n",
      "\n",
      "2016q1.csv.zip.4    100%[===================>]  10.15M  1.41MB/s    in 7.6s    \n",
      "\n",
      "2016-09-22 21:51:11 (1.34 MB/s) - ‘2016q1.csv.zip.4’ saved [10643003/10643003]\n",
      "\n"
     ]
    }
   ],
   "source": [
    "!wget https://raw.githubusercontent.com/gwsb-istm-6212-fall-2016/syllabus-and-schedule/master/projects/project-01/2016q1.csv.zip"
   ]
  },
  {
   "cell_type": "code",
   "execution_count": 10,
   "metadata": {
    "collapsed": false
   },
   "outputs": [
    {
     "name": "stdout",
     "output_type": "stream",
     "text": [
      "Archive:  2016q1.csv.zip\n",
      "  inflating: 2016q1.csv              \n"
     ]
    }
   ],
   "source": [
    "!unzip 2016q1.csv.zip"
   ]
  },
  {
   "cell_type": "code",
   "execution_count": 11,
   "metadata": {
    "collapsed": true
   },
   "outputs": [],
   "source": [
    "#Renaming the file to something simple and relatable\n",
    "!mv 2016q1.csv BikeShare.csv"
   ]
  },
  {
   "cell_type": "code",
   "execution_count": 16,
   "metadata": {
    "collapsed": false
   },
   "outputs": [
    {
     "name": "stdout",
     "output_type": "stream",
     "text": [
      "  1: Duration (ms)\r\n",
      "  2: Start date\r\n",
      "  3: End date\r\n",
      "  4: Start station number\r\n",
      "  5: Start station\r\n",
      "  6: End station number\r\n",
      "  7: End station\r\n",
      "  8: Bike number\r\n",
      "  9: Member Type\r\n"
     ]
    }
   ],
   "source": [
    "#Using csv toolkit to get the column info. \n",
    "!csvcut -n BikeShare.csv"
   ]
  },
  {
   "cell_type": "code",
   "execution_count": 12,
   "metadata": {
    "collapsed": false
   },
   "outputs": [],
   "source": [
    "#This is to get the top row of desired columns into a new text file. \n",
    "!csvcut -c1,5,7 BikeShare.csv | csvsort -c1 | head -1 > departingStat.txt\n",
    "\n",
    "#This appends to the previously created file. Csv toolkit sorts the duration and gets the 10 highest values and re-sorts based on the start station (our desired info.) \n",
    "!csvcut -c1,5,7 BikeShare.csv | csvsort -c1 | tail -10 | csvsort -c2 >> departingStat.txt"
   ]
  },
  {
   "cell_type": "code",
   "execution_count": 13,
   "metadata": {
    "collapsed": false
   },
   "outputs": [
    {
     "name": "stdout",
     "output_type": "stream",
     "text": [
      "|----------------+----------------------------------+------------------------------------------|\r\n",
      "|  Duration (ms) | Start station                    | End station                              |\r\n",
      "|----------------+----------------------------------+------------------------------------------|\r\n",
      "|  84846045      | 14th St & Spring Rd NW           | 17th St & Massachusetts Ave NW           |\r\n",
      "|  85338789      | 3rd & H St NE                    | Maryland Ave & E St NE                   |\r\n",
      "|  85816564      | 5th & K St NW                    | 2nd & G St NE                            |\r\n",
      "|  84549415      | 8th & O St NW                    | Columbia Rd & Belmont St NW              |\r\n",
      "|  86220848      | Constitution Ave & 2nd St NW/DOL | 10th St & Constitution Ave NW            |\r\n",
      "|  84106078      | Georgia & New Hampshire Ave NW   | Park Rd & Holmead Pl NW                  |\r\n",
      "|  84980029      | Jefferson Dr & 14th St SW        | 20th St & Virginia Ave NW                |\r\n",
      "|  85380959      | Jefferson Dr & 14th St SW        | 3rd St & Pennsylvania Ave SE             |\r\n",
      "|  86306205      | Jefferson Dr & 14th St SW        | Smithsonian / Jefferson Dr & 12th St SW  |\r\n",
      "|  84854972      | Madison & N Henry St             | Mount Vernon Ave & Kennedy St            |\r\n",
      "|----------------+----------------------------------+------------------------------------------|\r\n"
     ]
    }
   ],
   "source": [
    "!csvcut departingStat.txt | csvsort -c2 | csvlook"
   ]
  },
  {
   "cell_type": "code",
   "execution_count": 14,
   "metadata": {
    "collapsed": false
   },
   "outputs": [],
   "source": [
    "#This is to get the top row of desired columns into a new text file. \n",
    "!csvcut -c1,5,7 BikeShare.csv | csvsort -c1 | head -1 > destinationStat.txt\n",
    "\n",
    "#This appends to the previously created file. Csv toolkit sorts the duration and gets the 10 highest values and re-sorts based on the destination station (our desired info.) \n",
    "!csvcut -c1,5,7 BikeShare.csv | csvsort -c1 | tail -10 | csvsort -c2 >> destinationStat.txt"
   ]
  },
  {
   "cell_type": "code",
   "execution_count": 15,
   "metadata": {
    "collapsed": false
   },
   "outputs": [
    {
     "name": "stdout",
     "output_type": "stream",
     "text": [
      "|----------------+----------------------------------+------------------------------------------|\r\n",
      "|  Duration (ms) | Start station                    | End station                              |\r\n",
      "|----------------+----------------------------------+------------------------------------------|\r\n",
      "|  86220848      | Constitution Ave & 2nd St NW/DOL | 10th St & Constitution Ave NW            |\r\n",
      "|  84846045      | 14th St & Spring Rd NW           | 17th St & Massachusetts Ave NW           |\r\n",
      "|  84980029      | Jefferson Dr & 14th St SW        | 20th St & Virginia Ave NW                |\r\n",
      "|  85816564      | 5th & K St NW                    | 2nd & G St NE                            |\r\n",
      "|  85380959      | Jefferson Dr & 14th St SW        | 3rd St & Pennsylvania Ave SE             |\r\n",
      "|  84549415      | 8th & O St NW                    | Columbia Rd & Belmont St NW              |\r\n",
      "|  85338789      | 3rd & H St NE                    | Maryland Ave & E St NE                   |\r\n",
      "|  84854972      | Madison & N Henry St             | Mount Vernon Ave & Kennedy St            |\r\n",
      "|  84106078      | Georgia & New Hampshire Ave NW   | Park Rd & Holmead Pl NW                  |\r\n",
      "|  86306205      | Jefferson Dr & 14th St SW        | Smithsonian / Jefferson Dr & 12th St SW  |\r\n",
      "|----------------+----------------------------------+------------------------------------------|\r\n"
     ]
    }
   ],
   "source": [
    "!csvcut departingStat.txt | csvsort -c3 | csvlook"
   ]
  },
  {
   "cell_type": "markdown",
   "metadata": {},
   "source": [
    "# PROBLEM 3"
   ]
  },
  {
   "cell_type": "code",
   "execution_count": 17,
   "metadata": {
    "collapsed": true
   },
   "outputs": [],
   "source": [
    "!chmod +x simplefilter.py"
   ]
  },
  {
   "cell_type": "code",
   "execution_count": null,
   "metadata": {
    "collapsed": true
   },
   "outputs": [],
   "source": []
  }
 ],
 "metadata": {
  "kernelspec": {
   "display_name": "Python [Root]",
   "language": "python",
   "name": "Python [Root]"
  },
  "language_info": {
   "codemirror_mode": {
    "name": "ipython",
    "version": 3
   },
   "file_extension": ".py",
   "mimetype": "text/x-python",
   "name": "python",
   "nbconvert_exporter": "python",
   "pygments_lexer": "ipython3",
   "version": "3.5.2"
  }
 },
 "nbformat": 4,
 "nbformat_minor": 0
}
