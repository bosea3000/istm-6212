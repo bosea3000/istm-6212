{
 "cells": [
  {
   "cell_type": "markdown",
   "metadata": {},
   "source": [
    "# Exercise 04 - Due Friday, October 21 at 12pm\n",
    "\n",
    "*Objectives*: Gain experience loading a CSV dataset into a database model you define yourself and using SQL to explore its contents. Explore the data by writing and executing a number of SQL queries using common syntax and functions and describing your findings.\n",
    "\n",
    "*Grading criteria*: The tasks should all be completed, and questions should all be answered with SQL queries in the space provided, unless a text answer is requested. Results should be correct, according to the embedded tests. The notebook itself should be completely reproducible; from start to finish, another person should be able to use the same code to obtain the same results as yours.  Note that you will receive no more than partial credit if you do not add text/markdown cells explaining your thinking at each major step in each problem.\n",
    "\n",
    "*Deadline*: Friday, October 21, 12pm. Submit your notebook to Blackboard and push it to your GitHub repository.\n",
    "\n",
    "## Setup - obtain data and create database\n",
    "\n",
    "The US City Open Data Census has data on [restaurant inspections from all over the country](http://us-city.census.okfn.org/dataset/food-safety).  Let's take a look at data from Albuquerque.  *Note*: metadata and other details for this dataset are available at http://data.cabq.gov/business/foodinspections/.\n",
    "\n",
    "Fyi, to save you a step, I've converted this file into a clean CSV file by using the `dos2unix` command to change its line endings and to switch it to use commas instead of tabs using `csvformat -t inputfile.csv > outputfile.csv`.\n",
    "\n",
    "First we download the dataset:"
   ]
  },
  {
   "cell_type": "code",
   "execution_count": 1,
   "metadata": {
    "collapsed": false
   },
   "outputs": [
    {
     "name": "stdout",
     "output_type": "stream",
     "text": [
      "--2016-10-24 15:50:56--  https://raw.githubusercontent.com/gwsb-istm-6212-fall-2016/syllabus-and-schedule/master/exercises/abq-food-inspections-fy2010.csv\n",
      "Resolving raw.githubusercontent.com (raw.githubusercontent.com)... 151.101.32.133\n",
      "Connecting to raw.githubusercontent.com (raw.githubusercontent.com)|151.101.32.133|:443... connected.\n",
      "HTTP request sent, awaiting response... 200 OK\n",
      "Length: 5025226 (4.8M) [text/plain]\n",
      "Saving to: ‘abq-food-inspections-fy2010.csv’\n",
      "\n",
      "abq-food-inspection 100%[=====================>]   4.79M  --.-KB/s   in 0.08s  \n",
      "\n",
      "2016-10-24 15:50:56 (57.4 MB/s) - ‘abq-food-inspections-fy2010.csv’ saved [5025226/5025226]\n",
      "\n"
     ]
    }
   ],
   "source": [
    "!wget https://raw.githubusercontent.com/gwsb-istm-6212-fall-2016/syllabus-and-schedule/master/exercises/abq-food-inspections-fy2010.csv"
   ]
  },
  {
   "cell_type": "markdown",
   "metadata": {},
   "source": [
    "## Problem 1 - examine the data (35 points)\n",
    "\n",
    "Use `csvstat` and other tools as you see fit and observe its contents.  Review the metadata definitions linked to above.  Describe what you see:  What do all the columns mean?  Are there null values?  Which columns interest you the most?  Which columns present some complications or questions you would like to ask?"
   ]
  },
  {
   "cell_type": "code",
   "execution_count": 2,
   "metadata": {
    "collapsed": false
   },
   "outputs": [],
   "source": [
    "!mv abq-food-inspections-fy2010.csv FoodInspection.csv"
   ]
  },
  {
   "cell_type": "code",
   "execution_count": 3,
   "metadata": {
    "collapsed": false
   },
   "outputs": [
    {
     "name": "stdout",
     "output_type": "stream",
     "text": [
      "  1: FACILITY_NAME\r\n",
      "  2: FACILITY_KEY\r\n",
      "  3: SITE_ADDRESS\r\n",
      "  4: CITY\r\n",
      "  5: STATE\r\n",
      "  6: ZIP\r\n",
      "  7: OWNER_KEY\r\n",
      "  8: OWNER_NAME\r\n",
      "  9: NATURE_OF_BUSINESS\r\n",
      " 10: STREET_NUMBER\r\n",
      " 11: STREET_NAME\r\n",
      " 12: STREET_TYPE\r\n",
      " 13: POST_DIRECTIONAL\r\n",
      " 14: PHONE\r\n",
      " 15: PROGRAM_CATEGORY\r\n",
      " 16: PROGRAM_CATEGORY_DESCRIPTION\r\n",
      " 17: INSPECTION_DATE\r\n",
      " 18: INSPECTION_TYPE\r\n",
      " 19: INSPECTION_DESC\r\n",
      " 20: SERIAL_NUM\r\n",
      " 21: ACTION_CODE\r\n",
      " 22: ACTION_DESC\r\n",
      " 23: RESULT_CODE\r\n",
      " 24: RESULT_DESC\r\n",
      " 25: VIOLATION_CODE\r\n",
      " 26: VIOLATION_DESC\r\n",
      " 27: INSPECTION_MEMO\r\n"
     ]
    }
   ],
   "source": [
    "!csvcut -n FoodInspection.csv"
   ]
  },
  {
   "cell_type": "markdown",
   "metadata": {},
   "source": [
    "Here, we find 27 unique columns in the dataset. This data set primarily deals with respective restaurants in the city and their inspection type and results."
   ]
  },
  {
   "cell_type": "code",
   "execution_count": 4,
   "metadata": {
    "collapsed": false
   },
   "outputs": [
    {
     "name": "stdout",
     "output_type": "stream",
     "text": [
      "|----------------------+--------------+-------------------------------+-------------+-------+-------+------------|\r\n",
      "|  FACILITY_NAME       | FACILITY_KEY | SITE_ADDRESS                  | CITY        | STATE | ZIP   | OWNER_KEY  |\r\n",
      "|----------------------+--------------+-------------------------------+-------------+-------+-------+------------|\r\n",
      "|  00BSAY IT WITH CAKE | 50534        | 10200 GOLF COURSE RD NW STE B | ALBUQUERQUE | NM    | 87114 | 47341      |\r\n",
      "|  00BSAY IT WITH CAKE | 50534        | 10200 GOLF COURSE RD NW STE B | ALBUQUERQUE | NM    | 87114 | 47341      |\r\n",
      "|----------------------+--------------+-------------------------------+-------------+-------+-------+------------|\r\n"
     ]
    }
   ],
   "source": [
    "!csvcut -c1,2,3,4,5,6,7 FoodInspection.csv | head -3| csvlook"
   ]
  },
  {
   "cell_type": "code",
   "execution_count": 5,
   "metadata": {
    "collapsed": false
   },
   "outputs": [
    {
     "name": "stdout",
     "output_type": "stream",
     "text": [
      "|----------------------+--------------------+---------------+-------------+-------------+-------------------|\r\n",
      "|  OWNER_NAME          | NATURE_OF_BUSINESS | STREET_NUMBER | STREET_NAME | STREET_TYPE | POST_DIRECTIONAL  |\r\n",
      "|----------------------+--------------------+---------------+-------------+-------------+-------------------|\r\n",
      "|  OOBSAY IT WITH CAKE | CAKE DECORATING    | 10200         | GOLF COURSE | RD          | NW                |\r\n",
      "|  OOBSAY IT WITH CAKE | CAKE DECORATING    | 10200         | GOLF COURSE | RD          | NW                |\r\n",
      "|----------------------+--------------------+---------------+-------------+-------------+-------------------|\r\n"
     ]
    }
   ],
   "source": [
    "!csvcut -c8,9,10,11,12,13 FoodInspection.csv | head -3| csvlook"
   ]
  },
  {
   "cell_type": "markdown",
   "metadata": {},
   "source": [
    "The First 13 columns deal with the restaurant and corresponding addresses, along with two sets of keys. "
   ]
  },
  {
   "cell_type": "code",
   "execution_count": 6,
   "metadata": {
    "collapsed": false
   },
   "outputs": [
    {
     "name": "stdout",
     "output_type": "stream",
     "text": [
      "|-------------+------------------+------------------------------+---------------------+------------------|\r\n",
      "|  PHONE      | PROGRAM_CATEGORY | PROGRAM_CATEGORY_DESCRIPTION | INSPECTION_DATE     | INSPECTION_TYPE  |\r\n",
      "|-------------+------------------+------------------------------+---------------------+------------------|\r\n",
      "|  5058339563 | 0405             | Food Processor               | 2009-10-21 00:00:00 |                  |\r\n",
      "|  5058339563 | 0405             | Food Processor               | 2009-10-21 00:00:00 |                  |\r\n",
      "|-------------+------------------+------------------------------+---------------------+------------------|\r\n"
     ]
    }
   ],
   "source": [
    "!csvcut -c14,15,16,17,18 FoodInspection.csv | head -3| csvlook"
   ]
  },
  {
   "cell_type": "code",
   "execution_count": 7,
   "metadata": {
    "collapsed": false
   },
   "outputs": [
    {
     "name": "stdout",
     "output_type": "stream",
     "text": [
      "|--------------------------+------------+-------------+-------------+-------------+----------------+-----------------|\r\n",
      "|  INSPECTION_DESC         | SERIAL_NUM | ACTION_CODE | ACTION_DESC | RESULT_CODE | RESULT_DESC    | VIOLATION_CODE  |\r\n",
      "|--------------------------+------------+-------------+-------------+-------------+----------------+-----------------|\r\n",
      "|  EMERGENCY RESPONSE      | DA8009125  | 00          | NON-GRADED  | 00          | NOT APPLICABLE |     68          |\r\n",
      "|  ROUTINE FOOD INSPECTION | DA8009123  | 11          | APPROVED    | 03          | IN COMPLIANCE  |     00          |\r\n",
      "|--------------------------+------------+-------------+-------------+-------------+----------------+-----------------|\r\n"
     ]
    }
   ],
   "source": [
    "!csvcut -c19,20,21,22,23,24,25 FoodInspection.csv | head -3| csvlook"
   ]
  },
  {
   "cell_type": "code",
   "execution_count": 8,
   "metadata": {
    "collapsed": false
   },
   "outputs": [
    {
     "name": "stdout",
     "output_type": "stream",
     "text": [
      "|-----------------------------------+------------------|\r\n",
      "|  VIOLATION_DESC                   | INSPECTION_MEMO  |\r\n",
      "|-----------------------------------+------------------|\r\n",
      "|  Delivered Informational Brochure |                  |\r\n",
      "|  No Violations Found              |                  |\r\n",
      "|-----------------------------------+------------------|\r\n"
     ]
    }
   ],
   "source": [
    "!csvcut -c26,27 FoodInspection.csv | head -3| csvlook"
   ]
  },
  {
   "cell_type": "markdown",
   "metadata": {},
   "source": [
    "The remaining columns deal with the inspection of each restaurant, the type of the inspection and the results. Here, we see a bunch of codes. The codes are internal to the inspection metrics and we cannot infer what they mean. But looks there may be a few null values; few empty spots in the Inspection_Memo column. So let's explore that."
   ]
  },
  {
   "cell_type": "code",
   "execution_count": 9,
   "metadata": {
    "collapsed": false
   },
   "outputs": [
    {
     "name": "stdout",
     "output_type": "stream",
     "text": [
      "  1. FACILITY_KEY\n",
      "\t<class 'int'>\n",
      "\tNulls: False\n",
      "\tMin: 13\n",
      "\tMax: 101482\n",
      "\tSum: 820405773\n",
      "\tMean: 46730.79135338346\n",
      "\tMedian: 50866.0\n",
      "\tStandard Deviation: 32659.794578837962\n",
      "\tUnique values: 2835\n",
      "\t5 most frequent values:\n",
      "\t\t46323:\t93\n",
      "\t\t65863:\t85\n",
      "\t\t32817:\t68\n",
      "\t\t80949:\t68\n",
      "\t\t91825:\t66\n",
      "  2. ZIP\n",
      "\t<class 'str'>\n",
      "\tNulls: False\n",
      "\tUnique values: 48\n",
      "\t5 most frequent values:\n",
      "\t\t87110:\t1996\n",
      "\t\t87108:\t1976\n",
      "\t\t87102:\t1601\n",
      "\t\t87106:\t1568\n",
      "\t\t87109:\t1552\n",
      "\tMax length: 10\n",
      "  3. OWNER_KEY\n",
      "\t<class 'int'>\n",
      "\tNulls: False\n",
      "\tMin: 11\n",
      "\tMax: 87302\n",
      "\tSum: 644760848\n",
      "\tMean: 36725.953975848715\n",
      "\tMedian: 33747.0\n",
      "\tStandard Deviation: 29428.207216739836\n",
      "\tUnique values: 1892\n",
      "\t5 most frequent values:\n",
      "\t\t1838:\t792\n",
      "\t\t3537:\t321\n",
      "\t\t1272:\t228\n",
      "\t\t36280:\t156\n",
      "\t\t80274:\t155\n",
      "  4. STREET_NUMBER\n",
      "\t<class 'str'>\n",
      "\tNulls: True\n",
      "\tUnique values: 1349\n",
      "\t5 most frequent values:\n",
      "\t\t6600:\t216\n",
      "\t\t10000:\t152\n",
      "\t\t300:\t143\n",
      "\t\t2200:\t127\n",
      "\t\t8100:\t125\n",
      "\tMax length: 7\n",
      "  5. PHONE\n",
      "\t<class 'int'>\n",
      "\tNulls: True\n",
      "\tMin: 2471094\n",
      "\tMax: 505345566137310\n",
      "\tSum: 2608539289633190\n",
      "\tMean: 161719732773.29138\n",
      "\tMedian: 5053454060.0\n",
      "\tStandard Deviation: 8895791545525.992\n",
      "\tUnique values: 2279\n",
      "\t5 most frequent values:\n",
      "\t\t9153321301:\t101\n",
      "\t\t3037929467:\t100\n",
      "\t\t5052224033:\t94\n",
      "\t\t3109680646:\t85\n",
      "\t\t5052426777:\t68\n",
      "  6. PROGRAM_CATEGORY\n",
      "\t<class 'str'>\n",
      "\tNulls: False\n",
      "\tUnique values: 25\n",
      "\t5 most frequent values:\n",
      "\t\t0406:\t7969\n",
      "\t\t0601:\t1159\n",
      "\t\t0607:\t894\n",
      "\t\t0606:\t865\n",
      "\t\t0501:\t832\n",
      "\tMax length: 4\n",
      "  7. ACTION_CODE\n",
      "\t<class 'str'>\n",
      "\tNulls: False\n",
      "\tUnique values: 8\n",
      "\t5 most frequent values:\n",
      "\t\t11:\t14080\n",
      "\t\t00:\t2800\n",
      "\t\t09:\t382\n",
      "\t\t06:\t264\n",
      "\t\t10:\t21\n",
      "\tMax length: 2\n",
      "  8. RESULT_CODE\n",
      "\t<class 'str'>\n",
      "\tNulls: False\n",
      "\tUnique values: 19\n",
      "\t5 most frequent values:\n",
      "\t\t03:\t14389\n",
      "\t\t00:\t2416\n",
      "\t\t05:\t214\n",
      "\t\t22:\t142\n",
      "\t\t18:\t104\n",
      "\tMax length: 2\n",
      "  9. VIOLATION_CODE\n",
      "\t<class 'str'>\n",
      "\tNulls: True\n",
      "\tUnique values: 128\n",
      "\t5 most frequent values:\n",
      "\t\t55:\t6348\n",
      "\t\t00:\t3429\n",
      "\t\t68:\t1658\n",
      "\t\t42:\t487\n",
      "\t\t35:\t441\n",
      "\tMax length: 10\n",
      "\n",
      "Row count: 17556\n"
     ]
    }
   ],
   "source": [
    "!csvcut -c2,6,7,10,14,15,21,23,25 FoodInspection.csv | csvstat"
   ]
  },
  {
   "cell_type": "code",
   "execution_count": 10,
   "metadata": {
    "collapsed": false
   },
   "outputs": [
    {
     "name": "stdout",
     "output_type": "stream",
     "text": [
      "  1. FACILITY_NAME\n",
      "\t<class 'str'>\n",
      "\tNulls: False\n",
      "\tUnique values: 2615\n",
      "\t5 most frequent values:\n",
      "\t\tSMITHS FOOD AND DRUG CENTERS INC:\t154\n",
      "\t\tISOTOPES PARK - OVATIONS:\t93\n",
      "\t\tPER EHSII CECELIA GARCIA OOB LA REYNA DEL SUR:\t85\n",
      "\t\tECHO INC:\t68\n",
      "\t\tISLETA AMPHITHEATER:\t68\n",
      "\tMax length: 77\n",
      "  2. SITE_ADDRESS\n",
      "\t<class 'str'>\n",
      "\tNulls: True\n",
      "\tUnique values: 2456\n",
      "\t5 most frequent values:\n",
      "\t\t1601 AVENIDA CESAR CHAVEZ SE:\t94\n",
      "\t\t644 OLD COORS BLVD SW:\t85\n",
      "\t\t8601 CENTRAL AV NE:\t77\n",
      "\t\t2200 SUNPORT BLVD SE:\t75\n",
      "\t\t5210 CENTRAL AV SE:\t73\n",
      "\tMax length: 35\n",
      "  3. CITY\n",
      "\t<class 'str'>\n",
      "\tNulls: False\n",
      "\tValues: ALBUQUERQUE\n",
      "  4. STATE\n",
      "\t<class 'str'>\n",
      "\tNulls: False\n",
      "\tValues: 87, NM\n",
      "  5. OWNER_NAME\n",
      "\t<class 'str'>\n",
      "\tNulls: False\n",
      "\tUnique values: 1852\n",
      "\t5 most frequent values:\n",
      "\t\tAPS:\t792\n",
      "\t\tSMITHS FOOD AND DRUG CENTERS INC:\t321\n",
      "\t\tCIRCLE K STORES INC:\t277\n",
      "\t\tALBERTSONS:\t228\n",
      "\t\tWAL MART STORES EAST  LP:\t156\n",
      "\tMax length: 82\n",
      "  6. NATURE_OF_BUSINESS\n",
      "\t<class 'str'>\n",
      "\tNulls: True\n",
      "\tUnique values: 594\n",
      "\t5 most frequent values:\n",
      "\t\tRESTAURANT:\t4994\n",
      "\t\tFOOD SERVICE:\t691\n",
      "\t\tGROCERY:\t618\n",
      "\t\tBAR/RESTAURANT:\t508\n",
      "\t\tAPS SCHOOL FOOD SERVICE:\t470\n",
      "\tMax length: 25\n",
      "  7. STREET_NAME\n",
      "\t<class 'str'>\n",
      "\tNulls: True\n",
      "\tUnique values: 404\n",
      "\t5 most frequent values:\n",
      "\t\tCENTRAL:\t1898\n",
      "\t\tMENAUL:\t928\n",
      "\t\tCOORS:\t918\n",
      "\t\tMONTGOMERY:\t727\n",
      "\t\tSAN MATEO:\t707\n",
      "\tMax length: 24\n",
      "  8. STREET_TYPE\n",
      "\t<class 'str'>\n",
      "\tNulls: True\n",
      "\tUnique values: 13\n",
      "\t5 most frequent values:\n",
      "\t\tBLVD:\t7636\n",
      "\t\tAV:\t3005\n",
      "\t\tST:\t2065\n",
      "\t\tRD:\t1900\n",
      "\t\tDR:\t995\n",
      "\tMax length: 4\n",
      "  9. POST_DIRECTIONAL\n",
      "\t<class 'str'>\n",
      "\tNulls: True\n",
      "\tValues: N, SE, SW, NW, NE\n",
      " 10. PROGRAM_CATEGORY_DESCRIPTION\n",
      "\t<class 'str'>\n",
      "\tNulls: True\n",
      "\tUnique values: 24\n",
      "\t5 most frequent values:\n",
      "\t\tFood Service Establishment:\t7969\n",
      "\t\tRetail -Grocery:\t1159\n",
      "\t\tRetail - Self Service & Prepackage Foods:\t894\n",
      "\t\tRetail - Prepackage Only:\t865\n",
      "\t\tBar:\t832\n",
      "\tMax length: 40\n",
      " 11. INSPECTION_TYPE\n",
      "\t<class 'NoneType'>\n",
      "\tNulls: True\n",
      "\tValues: \n",
      " 12. INSPECTION_DESC\n",
      "\t<class 'str'>\n",
      "\tNulls: False\n",
      "\tUnique values: 15\n",
      "\t5 most frequent values:\n",
      "\t\tROUTINE FOOD INSPECTION:\t12439\n",
      "\t\tEMERGENCY RESPONSE:\t1987\n",
      "\t\tNew Business Inspection:\t1005\n",
      "\t\tPRE-OPENING FOOD INSPECTION:\t743\n",
      "\t\tADDITIONAL SERVICE PROVIDED:\t439\n",
      "\tMax length: 32\n",
      " 13. SERIAL_NUM\n",
      "\t<class 'str'>\n",
      "\tNulls: False\n",
      "\tUnique values: 9046\n",
      "\t5 most frequent values:\n",
      "\t\tDA0047290:\t61\n",
      "\t\tDA0047720:\t61\n",
      "\t\tDA0045676:\t61\n",
      "\t\tDA0045731:\t61\n",
      "\t\tDA0059230:\t61\n",
      "\tMax length: 9\n",
      " 14. ACTION_DESC\n",
      "\t<class 'str'>\n",
      "\tNulls: False\n",
      "\tUnique values: 8\n",
      "\t5 most frequent values:\n",
      "\t\tAPPROVED:\t14080\n",
      "\t\tNON-GRADED:\t2800\n",
      "\t\tANNUAL STICKER ISSUED:\t382\n",
      "\t\tUNSATISFACTORY:\t264\n",
      "\t\tANNUAL STICKER NOT ISSUED:\t21\n",
      "\tMax length: 34\n",
      " 15. RESULT_DESC\n",
      "\t<class 'str'>\n",
      "\tNulls: False\n",
      "\tUnique values: 19\n",
      "\t5 most frequent values:\n",
      "\t\tIN COMPLIANCE:\t14389\n",
      "\t\tNOT APPLICABLE:\t2416\n",
      "\t\tDOWNGRADE:\t214\n",
      "\t\tOUT OF BUSINESS:\t142\n",
      "\t\tTRAINING RECEIVED:\t104\n",
      "\tMax length: 37\n",
      " 16. VIOLATION_DESC\n",
      "\t<class 'str'>\n",
      "\tNulls: True\n",
      "\tUnique values: 70\n",
      "\t5 most frequent values:\n",
      "\t\tAdditional Comments:\t6353\n",
      "\t\tNo Violations Found:\t3434\n",
      "\t\tDelivered Informational Brochure:\t1657\n",
      "\t\tPlumbing: Improperly installed/maintained/supplied:\t492\n",
      "\t\tNon-Food contact surfaces:\t446\n",
      "\tMax length: 50\n",
      " 17. INSPECTION_MEMO\n",
      "\t<class 'NoneType'>\n",
      "\tNulls: True\n",
      "\tValues: \n",
      "\n",
      "Row count: 17556\n"
     ]
    }
   ],
   "source": [
    "!csvcut -c1,3,4,5,8,9,11,12,13,16,18,19,20,22,24,26,27 FoodInspection.csv | csvstat"
   ]
  },
  {
   "cell_type": "code",
   "execution_count": 11,
   "metadata": {
    "collapsed": false
   },
   "outputs": [
    {
     "name": "stdout",
     "output_type": "stream",
     "text": [
      "  1. INSPECTION_DATE\r\n",
      "\t<class 'datetime.date'>\r\n",
      "\tNulls: False\r\n",
      "\tMin: 2009-07-01\r\n",
      "\tMax: 2010-06-30\r\n",
      "\tUnique values: 258\r\n",
      "\t5 most frequent values:\r\n",
      "\t\t2009-12-16:\t184\r\n",
      "\t\t2009-09-10:\t159\r\n",
      "\t\t2009-09-25:\t148\r\n",
      "\t\t2009-11-04:\t133\r\n",
      "\t\t2009-10-01:\t131\r\n",
      "\r\n",
      "Row count: 17556\r\n"
     ]
    }
   ],
   "source": [
    "!csvcut -c17 FoodInspection.csv | csvstat"
   ]
  },
  {
   "cell_type": "markdown",
   "metadata": {},
   "source": [
    "Well, as it turns out quite few columns have null values, specifically columns 3,8,9,10,11,12,13,14,16,24,25,26. From missing restaurant addresses to contact information and results of the inspecton. This could result in an incomplete database. "
   ]
  },
  {
   "cell_type": "markdown",
   "metadata": {},
   "source": [
    "I am most interested in finding out if each unique restaurant has an associated inspection decision and violation decision. Additionlly, if there are any corresponding notes or actions. The whole purpose is to make sure each restaurant in the database is evaluated; so we need to ensure that. "
   ]
  },
  {
   "cell_type": "markdown",
   "metadata": {},
   "source": [
    "I would like to explore if there is a particular chain / group of restaurants which have non-compliance results. Perhaprs a particular set of owners are irresponsible or they are in congregated in a particular area in the city, etc. "
   ]
  },
  {
   "cell_type": "markdown",
   "metadata": {},
   "source": [
    "Insert a combination of code and text/markdown cells here to review the data and describe what you find."
   ]
  },
  {
   "cell_type": "markdown",
   "metadata": {},
   "source": [
    "## Problem 2 - define a database model and load the data (35 points)\n",
    "\n",
    "Based on what you found above, create and connect to a new database, define a database table in it, and load this dataset into it.  You may use either of the methods for this step you have seen in earlier class notebooks.  You may choose to eliminate variables/columns if they are not relevant or interesting to you - explain your reasoning if you do.  Either way, you should load a majority of the columns present in the source dataset into the database and all of its rows.\n",
    "\n",
    "Once your data has loaded successfully, run a `COUNT(*)` query to verify that all the data has loaded correctly.\n",
    "\n",
    "Insert a combination of code and text/markdown cells here to connect to your database, define your table, load its data, and verify the loaded records."
   ]
  },
  {
   "cell_type": "code",
   "execution_count": 12,
   "metadata": {
    "collapsed": false
   },
   "outputs": [
    {
     "name": "stdout",
     "output_type": "stream",
     "text": [
      "--2016-10-24 15:51:03--  https://raw.githubusercontent.com/gwsb-istm-6212-fall-2016/syllabus-and-schedule/master/exercises/abq-food-inspections-fy2010.csv\n",
      "Resolving raw.githubusercontent.com (raw.githubusercontent.com)... 151.101.32.133\n",
      "Connecting to raw.githubusercontent.com (raw.githubusercontent.com)|151.101.32.133|:443... connected.\n",
      "HTTP request sent, awaiting response... 200 OK\n",
      "Length: 5025226 (4.8M) [text/plain]\n",
      "Saving to: ‘abq-food-inspections-fy2010.csv’\n",
      "\n",
      "abq-food-inspection 100%[=====================>]   4.79M  --.-KB/s   in 0.09s  \n",
      "\n",
      "2016-10-24 15:51:04 (56.0 MB/s) - ‘abq-food-inspections-fy2010.csv’ saved [5025226/5025226]\n",
      "\n"
     ]
    }
   ],
   "source": [
    "!wget https://raw.githubusercontent.com/gwsb-istm-6212-fall-2016/syllabus-and-schedule/master/exercises/abq-food-inspections-fy2010.csv"
   ]
  },
  {
   "cell_type": "code",
   "execution_count": 13,
   "metadata": {
    "collapsed": false
   },
   "outputs": [],
   "source": [
    "cp abq-food-inspections-fy2010.csv inspection2010.csv"
   ]
  },
  {
   "cell_type": "markdown",
   "metadata": {},
   "source": [
    "Here, I have to change the name of the file because for some reason i keep getting errors using the original name. The sql function gives me connection error. "
   ]
  },
  {
   "cell_type": "code",
   "execution_count": 14,
   "metadata": {
    "collapsed": false
   },
   "outputs": [
    {
     "name": "stdout",
     "output_type": "stream",
     "text": [
      "[sudo] password for jovyan: Restarting PostgreSQL 9.5 database server: main.\n"
     ]
    }
   ],
   "source": [
    "!echo 'redspot' | sudo -S service postgresql restart"
   ]
  },
  {
   "cell_type": "code",
   "execution_count": 15,
   "metadata": {
    "collapsed": false
   },
   "outputs": [],
   "source": [
    "!createdb -U dbuser foodinspdb"
   ]
  },
  {
   "cell_type": "markdown",
   "metadata": {},
   "source": [
    "Creating a new database to populate"
   ]
  },
  {
   "cell_type": "code",
   "execution_count": 16,
   "metadata": {
    "collapsed": false
   },
   "outputs": [
    {
     "name": "stderr",
     "output_type": "stream",
     "text": [
      "/opt/conda/lib/python3.5/site-packages/IPython/config.py:13: ShimWarning: The `IPython.config` package has been deprecated. You should import from traitlets.config instead.\n",
      "  \"You should import from traitlets.config instead.\", ShimWarning)\n",
      "/opt/conda/lib/python3.5/site-packages/IPython/utils/traitlets.py:5: UserWarning: IPython.utils.traitlets has moved to a top-level traitlets package.\n",
      "  warn(\"IPython.utils.traitlets has moved to a top-level traitlets package.\")\n"
     ]
    }
   ],
   "source": [
    "%load_ext sql"
   ]
  },
  {
   "cell_type": "code",
   "execution_count": 17,
   "metadata": {
    "collapsed": false
   },
   "outputs": [
    {
     "data": {
      "text/plain": [
       "'Connected: dbuser@foodinspdb'"
      ]
     },
     "execution_count": 17,
     "metadata": {},
     "output_type": "execute_result"
    }
   ],
   "source": [
    "%sql postgresql://dbuser@localhost:5432/foodinspdb"
   ]
  },
  {
   "cell_type": "markdown",
   "metadata": {},
   "source": [
    "Accessing the database"
   ]
  },
  {
   "cell_type": "code",
   "execution_count": 18,
   "metadata": {
    "collapsed": false
   },
   "outputs": [],
   "source": [
    "!csvsql --db postgresql://dbuser@localhost:5432/foodinspdb --insert inspection2010.csv"
   ]
  },
  {
   "cell_type": "markdown",
   "metadata": {},
   "source": [
    "This populates the newly created database with the inspection csv files. "
   ]
  },
  {
   "cell_type": "code",
   "execution_count": 19,
   "metadata": {
    "collapsed": false
   },
   "outputs": [
    {
     "name": "stdout",
     "output_type": "stream",
     "text": [
      "1 rows affected.\n"
     ]
    },
    {
     "data": {
      "text/html": [
       "<table>\n",
       "    <tr>\n",
       "        <th>count</th>\n",
       "    </tr>\n",
       "    <tr>\n",
       "        <td>17556</td>\n",
       "    </tr>\n",
       "</table>"
      ],
      "text/plain": [
       "[(17556,)]"
      ]
     },
     "execution_count": 19,
     "metadata": {},
     "output_type": "execute_result"
    }
   ],
   "source": [
    "%%sql\n",
    "SELECT COUNT(*) FROM inspection2010"
   ]
  },
  {
   "cell_type": "code",
   "execution_count": 20,
   "metadata": {
    "collapsed": false
   },
   "outputs": [
    {
     "name": "stdout",
     "output_type": "stream",
     "text": [
      "Row count: 17556\r\n"
     ]
    }
   ],
   "source": [
    "!csvstat --count inspection2010.csv"
   ]
  },
  {
   "cell_type": "markdown",
   "metadata": {},
   "source": [
    "This verifies that the file has successfully loaded onto the database. We can see that both sql and csvtoolkit return the same value of 17556 for the rows.  "
   ]
  },
  {
   "cell_type": "markdown",
   "metadata": {},
   "source": [
    "## Problem 3 - explore your data (30 points)\n",
    "\n",
    "Now that the data is loaded, ask some questions of it!  Identify key variables of interest and note their ranges along with other useful descriptive statistics.  Choose and define a few lines of inquiry, execute queries for each, and describe what you find in your result sets.  Use any query techniques we've seen in class, including aggregate functions, transformations, subqueries, or others as appropriate. \n",
    "\n",
    "If you find interesting patterns, adding plots to your exploration would be useful.\n",
    "\n",
    "Insert a combination of code and text/markdown cells here to explore your data."
   ]
  },
  {
   "cell_type": "code",
   "execution_count": 22,
   "metadata": {
    "collapsed": false
   },
   "outputs": [
    {
     "name": "stdout",
     "output_type": "stream",
     "text": [
      "  1: FACILITY_NAME\r\n",
      "  2: FACILITY_KEY\r\n",
      "  3: SITE_ADDRESS\r\n",
      "  4: CITY\r\n",
      "  5: STATE\r\n",
      "  6: ZIP\r\n",
      "  7: OWNER_KEY\r\n",
      "  8: OWNER_NAME\r\n",
      "  9: NATURE_OF_BUSINESS\r\n",
      " 10: STREET_NUMBER\r\n",
      " 11: STREET_NAME\r\n",
      " 12: STREET_TYPE\r\n",
      " 13: POST_DIRECTIONAL\r\n",
      " 14: PHONE\r\n",
      " 15: PROGRAM_CATEGORY\r\n",
      " 16: PROGRAM_CATEGORY_DESCRIPTION\r\n",
      " 17: INSPECTION_DATE\r\n",
      " 18: INSPECTION_TYPE\r\n",
      " 19: INSPECTION_DESC\r\n",
      " 20: SERIAL_NUM\r\n",
      " 21: ACTION_CODE\r\n",
      " 22: ACTION_DESC\r\n",
      " 23: RESULT_CODE\r\n",
      " 24: RESULT_DESC\r\n",
      " 25: VIOLATION_CODE\r\n",
      " 26: VIOLATION_DESC\r\n",
      " 27: INSPECTION_MEMO\r\n"
     ]
    }
   ],
   "source": [
    "!csvcut -n inspection2010.csv"
   ]
  },
  {
   "cell_type": "code",
   "execution_count": 33,
   "metadata": {
    "collapsed": false
   },
   "outputs": [
    {
     "name": "stdout",
     "output_type": "stream",
     "text": [
      "19 rows affected.\n"
     ]
    },
    {
     "data": {
      "text/html": [
       "<table>\n",
       "    <tr>\n",
       "        <th>RESULT_DESC</th>\n",
       "        <th>count</th>\n",
       "    </tr>\n",
       "    <tr>\n",
       "        <td>NOTICE</td>\n",
       "        <td>3</td>\n",
       "    </tr>\n",
       "    <tr>\n",
       "        <td>DOWNGRADE</td>\n",
       "        <td>214</td>\n",
       "    </tr>\n",
       "    <tr>\n",
       "        <td>PERMIT SUSPENSION</td>\n",
       "        <td>2</td>\n",
       "    </tr>\n",
       "    <tr>\n",
       "        <td>EMBARGO</td>\n",
       "        <td>3</td>\n",
       "    </tr>\n",
       "    <tr>\n",
       "        <td>RECALL VERIFICATION</td>\n",
       "        <td>16</td>\n",
       "    </tr>\n",
       "    <tr>\n",
       "        <td>TRAINING RECEIVED</td>\n",
       "        <td>104</td>\n",
       "    </tr>\n",
       "    <tr>\n",
       "        <td>FACILITY CLOSED AT TIME OF INSPECTION</td>\n",
       "        <td>19</td>\n",
       "    </tr>\n",
       "    <tr>\n",
       "        <td>OUT OF BUSINESS</td>\n",
       "        <td>142</td>\n",
       "    </tr>\n",
       "    <tr>\n",
       "        <td>IN COMPLIANCE</td>\n",
       "        <td>14389</td>\n",
       "    </tr>\n",
       "    <tr>\n",
       "        <td>PERMISSION TO OPERATE</td>\n",
       "        <td>1</td>\n",
       "    </tr>\n",
       "    <tr>\n",
       "        <td>IMMEDIATE CLOSURE</td>\n",
       "        <td>45</td>\n",
       "    </tr>\n",
       "    <tr>\n",
       "        <td>PLAN REVIEW -APPROVED</td>\n",
       "        <td>2</td>\n",
       "    </tr>\n",
       "    <tr>\n",
       "        <td>PHONE CALL</td>\n",
       "        <td>90</td>\n",
       "    </tr>\n",
       "    <tr>\n",
       "        <td>NOT IN COMPLIANCE</td>\n",
       "        <td>24</td>\n",
       "    </tr>\n",
       "    <tr>\n",
       "        <td>NOT APPLICABLE</td>\n",
       "        <td>2416</td>\n",
       "    </tr>\n",
       "    <tr>\n",
       "        <td>WITNESS TO DESTRUCTION</td>\n",
       "        <td>5</td>\n",
       "    </tr>\n",
       "    <tr>\n",
       "        <td>UPGRADE</td>\n",
       "        <td>69</td>\n",
       "    </tr>\n",
       "    <tr>\n",
       "        <td>VOLUNTARY CLOSURE</td>\n",
       "        <td>1</td>\n",
       "    </tr>\n",
       "    <tr>\n",
       "        <td>PERMIT REINSTATEMENT</td>\n",
       "        <td>11</td>\n",
       "    </tr>\n",
       "</table>"
      ],
      "text/plain": [
       "[('NOTICE', 3),\n",
       " ('DOWNGRADE', 214),\n",
       " ('PERMIT SUSPENSION', 2),\n",
       " ('EMBARGO', 3),\n",
       " ('RECALL VERIFICATION', 16),\n",
       " ('TRAINING RECEIVED', 104),\n",
       " ('FACILITY CLOSED AT TIME OF INSPECTION', 19),\n",
       " ('OUT OF BUSINESS', 142),\n",
       " ('IN COMPLIANCE', 14389),\n",
       " ('PERMISSION TO OPERATE', 1),\n",
       " ('IMMEDIATE CLOSURE', 45),\n",
       " ('PLAN REVIEW -APPROVED', 2),\n",
       " ('PHONE CALL', 90),\n",
       " ('NOT IN COMPLIANCE', 24),\n",
       " ('NOT APPLICABLE', 2416),\n",
       " ('WITNESS TO DESTRUCTION', 5),\n",
       " ('UPGRADE', 69),\n",
       " ('VOLUNTARY CLOSURE', 1),\n",
       " ('PERMIT REINSTATEMENT', 11)]"
      ]
     },
     "execution_count": 33,
     "metadata": {},
     "output_type": "execute_result"
    }
   ],
   "source": [
    "%%sql\n",
    "SELECT \"RESULT_DESC\", COUNT (\"FACILITY_NAME\")\n",
    "FROM inspection2010\n",
    "GROUP BY \"RESULT_DESC\";"
   ]
  },
  {
   "cell_type": "code",
   "execution_count": 46,
   "metadata": {
    "collapsed": false
   },
   "outputs": [
    {
     "name": "stdout",
     "output_type": "stream",
     "text": [
      "71 rows affected.\n"
     ]
    },
    {
     "data": {
      "text/html": [
       "<table>\n",
       "    <tr>\n",
       "        <th>VIOLATION_DESC</th>\n",
       "        <th>count</th>\n",
       "    </tr>\n",
       "    <tr>\n",
       "        <td>None</td>\n",
       "        <td>1009</td>\n",
       "    </tr>\n",
       "    <tr>\n",
       "        <td>Food improperly labeled</td>\n",
       "        <td>134</td>\n",
       "    </tr>\n",
       "    <tr>\n",
       "        <td>Potentially hazardous food improperly thawed</td>\n",
       "        <td>63</td>\n",
       "    </tr>\n",
       "    <tr>\n",
       "        <td>Contaminated equipment</td>\n",
       "        <td>20</td>\n",
       "    </tr>\n",
       "    <tr>\n",
       "        <td>Hot Holding</td>\n",
       "        <td>175</td>\n",
       "    </tr>\n",
       "    <tr>\n",
       "        <td>Improper storage/handling of clean equipment/utens</td>\n",
       "        <td>93</td>\n",
       "    </tr>\n",
       "    <tr>\n",
       "        <td>Additional Comments</td>\n",
       "        <td>6353</td>\n",
       "    </tr>\n",
       "    <tr>\n",
       "        <td>Plumbing: Improperly installed/maintained/supplied</td>\n",
       "        <td>492</td>\n",
       "    </tr>\n",
       "    <tr>\n",
       "        <td>Other Operations - Linen</td>\n",
       "        <td>12</td>\n",
       "    </tr>\n",
       "    <tr>\n",
       "        <td>Food contact surfaces</td>\n",
       "        <td>251</td>\n",
       "    </tr>\n",
       "    <tr>\n",
       "        <td>Unapproved container</td>\n",
       "        <td>22</td>\n",
       "    </tr>\n",
       "    <tr>\n",
       "        <td>INFESTATION</td>\n",
       "        <td>5</td>\n",
       "    </tr>\n",
       "    <tr>\n",
       "        <td>Non-Food contact surfaces</td>\n",
       "        <td>446</td>\n",
       "    </tr>\n",
       "    <tr>\n",
       "        <td>Improper handwashing</td>\n",
       "        <td>40</td>\n",
       "    </tr>\n",
       "    <tr>\n",
       "        <td>Toxic Items- Improper Storage</td>\n",
       "        <td>39</td>\n",
       "    </tr>\n",
       "    <tr>\n",
       "        <td>Handwash Facilities - Inaccessible, unavailable</td>\n",
       "        <td>89</td>\n",
       "    </tr>\n",
       "    <tr>\n",
       "        <td>LACK OF REFIGERATIONS</td>\n",
       "        <td>2</td>\n",
       "    </tr>\n",
       "    <tr>\n",
       "        <td>Improper sanitizing</td>\n",
       "        <td>434</td>\n",
       "    </tr>\n",
       "    <tr>\n",
       "        <td>Complaint Not Substantiated</td>\n",
       "        <td>12</td>\n",
       "    </tr>\n",
       "    <tr>\n",
       "        <td>Other Operations - Premises</td>\n",
       "        <td>96</td>\n",
       "    </tr>\n",
       "    <tr>\n",
       "        <td>OTHER</td>\n",
       "        <td>5</td>\n",
       "    </tr>\n",
       "    <tr>\n",
       "        <td>OBSERVATIONS</td>\n",
       "        <td>11</td>\n",
       "    </tr>\n",
       "    <tr>\n",
       "        <td>Floors, Walls, Ceilings</td>\n",
       "        <td>406</td>\n",
       "    </tr>\n",
       "    <tr>\n",
       "        <td>Warewashing facilities</td>\n",
       "        <td>80</td>\n",
       "    </tr>\n",
       "    <tr>\n",
       "        <td>SEWAGE IN FACILITY</td>\n",
       "        <td>5</td>\n",
       "    </tr>\n",
       "    <tr>\n",
       "        <td>Cooling, Heating Procedures</td>\n",
       "        <td>57</td>\n",
       "    </tr>\n",
       "    <tr>\n",
       "        <td>Barehand Contact with ready to eat food</td>\n",
       "        <td>41</td>\n",
       "    </tr>\n",
       "    <tr>\n",
       "        <td>Food unprotected</td>\n",
       "        <td>425</td>\n",
       "    </tr>\n",
       "    <tr>\n",
       "        <td>Other Operations - Lighting</td>\n",
       "        <td>142</td>\n",
       "    </tr>\n",
       "    <tr>\n",
       "        <td>Complaint Substantiated</td>\n",
       "        <td>8</td>\n",
       "    </tr>\n",
       "    <tr>\n",
       "        <td>IMMEDIATE CLOSURE - IMMINENT HEALTH HAZARD</td>\n",
       "        <td>9</td>\n",
       "    </tr>\n",
       "    <tr>\n",
       "        <td>OPERATING WITHOUT A VALID PERMIT</td>\n",
       "        <td>61</td>\n",
       "    </tr>\n",
       "    <tr>\n",
       "        <td>Toxic Items- Improper Usage</td>\n",
       "        <td>20</td>\n",
       "    </tr>\n",
       "    <tr>\n",
       "        <td>Notice Statement</td>\n",
       "        <td>1</td>\n",
       "    </tr>\n",
       "    <tr>\n",
       "        <td>Cooking Temperatures</td>\n",
       "        <td>6</td>\n",
       "    </tr>\n",
       "    <tr>\n",
       "        <td>Warewashing Thermometers/Test Kits not provided</td>\n",
       "        <td>113</td>\n",
       "    </tr>\n",
       "    <tr>\n",
       "        <td>Poor Hygienic Practices- No hair restraints</td>\n",
       "        <td>16</td>\n",
       "    </tr>\n",
       "    <tr>\n",
       "        <td>Improper use of wiping cloths</td>\n",
       "        <td>124</td>\n",
       "    </tr>\n",
       "    <tr>\n",
       "        <td>Other Operations - Ventilation</td>\n",
       "        <td>25</td>\n",
       "    </tr>\n",
       "    <tr>\n",
       "        <td>Adulterated food</td>\n",
       "        <td>28</td>\n",
       "    </tr>\n",
       "    <tr>\n",
       "        <td>Toxic Items- Improper Labels</td>\n",
       "        <td>44</td>\n",
       "    </tr>\n",
       "    <tr>\n",
       "        <td>Food dispensing utensils improperly stored</td>\n",
       "        <td>97</td>\n",
       "    </tr>\n",
       "    <tr>\n",
       "        <td>Unapproved sewage and wastewater disposal</td>\n",
       "        <td>18</td>\n",
       "    </tr>\n",
       "    <tr>\n",
       "        <td>Cross connection, back siphonage, backflow</td>\n",
       "        <td>5</td>\n",
       "    </tr>\n",
       "    <tr>\n",
       "        <td>Evidence of insects</td>\n",
       "        <td>42</td>\n",
       "    </tr>\n",
       "    <tr>\n",
       "        <td>Inadequate water source, Hot or cold</td>\n",
       "        <td>42</td>\n",
       "    </tr>\n",
       "    <tr>\n",
       "        <td>Smoking, Eating, Drinking</td>\n",
       "        <td>114</td>\n",
       "    </tr>\n",
       "    <tr>\n",
       "        <td>Personnel w/infection restricted/excluded</td>\n",
       "        <td>6</td>\n",
       "    </tr>\n",
       "    <tr>\n",
       "        <td>No violations found at time of inspection.</td>\n",
       "        <td>1</td>\n",
       "    </tr>\n",
       "    <tr>\n",
       "        <td>Other Operations - Personal Items</td>\n",
       "        <td>48</td>\n",
       "    </tr>\n",
       "    <tr>\n",
       "        <td>Thermometers not provided, not accurate/consp</td>\n",
       "        <td>183</td>\n",
       "    </tr>\n",
       "    <tr>\n",
       "        <td>NO HOT WATER</td>\n",
       "        <td>5</td>\n",
       "    </tr>\n",
       "    <tr>\n",
       "        <td>OTHER - MISCELLEANOUS</td>\n",
       "        <td>1</td>\n",
       "    </tr>\n",
       "    <tr>\n",
       "        <td>Evidence of rodents</td>\n",
       "        <td>23</td>\n",
       "    </tr>\n",
       "    <tr>\n",
       "        <td>Other Operations - Living/Sleeping/Laundry</td>\n",
       "        <td>10</td>\n",
       "    </tr>\n",
       "    <tr>\n",
       "        <td>Reheating Temp</td>\n",
       "        <td>45</td>\n",
       "    </tr>\n",
       "    <tr>\n",
       "        <td>Food Cross Contamination</td>\n",
       "        <td>33</td>\n",
       "    </tr>\n",
       "    <tr>\n",
       "        <td>Toilet room fixtures</td>\n",
       "        <td>49</td>\n",
       "    </tr>\n",
       "    <tr>\n",
       "        <td>Poor Hygienic Practices- Soiled Clothing</td>\n",
       "        <td>7</td>\n",
       "    </tr>\n",
       "    <tr>\n",
       "        <td>Unapproved Source</td>\n",
       "        <td>14</td>\n",
       "    </tr>\n",
       "    <tr>\n",
       "        <td>Maintenance &amp; Operation</td>\n",
       "        <td>1</td>\n",
       "    </tr>\n",
       "    <tr>\n",
       "        <td>Garbage area improperly maintained or constructed</td>\n",
       "        <td>24</td>\n",
       "    </tr>\n",
       "    <tr>\n",
       "        <td>Delivered Informational Brochure</td>\n",
       "        <td>1657</td>\n",
       "    </tr>\n",
       "    <tr>\n",
       "        <td>Downgrade Statement</td>\n",
       "        <td>15</td>\n",
       "    </tr>\n",
       "    <tr>\n",
       "        <td>Handwash Facilities - Inadequate</td>\n",
       "        <td>18</td>\n",
       "    </tr>\n",
       "    <tr>\n",
       "        <td>No Violations Found</td>\n",
       "        <td>3434</td>\n",
       "    </tr>\n",
       "    <tr>\n",
       "        <td>Cold Holding</td>\n",
       "        <td>201</td>\n",
       "    </tr>\n",
       "    <tr>\n",
       "        <td>LACK OF REFRIGERATION</td>\n",
       "        <td>3</td>\n",
       "    </tr>\n",
       "    <tr>\n",
       "        <td>Bent, swollen containers</td>\n",
       "        <td>21</td>\n",
       "    </tr>\n",
       "    <tr>\n",
       "        <td>Insect, rodents, animals - Other</td>\n",
       "        <td>9</td>\n",
       "    </tr>\n",
       "    <tr>\n",
       "        <td>Enough facilities to maintain product temps</td>\n",
       "        <td>16</td>\n",
       "    </tr>\n",
       "</table>"
      ],
      "text/plain": [
       "[(None, 1009),\n",
       " ('Food improperly labeled', 134),\n",
       " ('Potentially hazardous food improperly thawed', 63),\n",
       " ('Contaminated equipment', 20),\n",
       " ('Hot Holding', 175),\n",
       " ('Improper storage/handling of clean equipment/utens', 93),\n",
       " ('Additional Comments', 6353),\n",
       " ('Plumbing: Improperly installed/maintained/supplied', 492),\n",
       " ('Other Operations - Linen', 12),\n",
       " ('Food contact surfaces', 251),\n",
       " ('Unapproved container', 22),\n",
       " ('INFESTATION', 5),\n",
       " ('Non-Food contact surfaces', 446),\n",
       " ('Improper handwashing', 40),\n",
       " ('Toxic Items- Improper Storage', 39),\n",
       " ('Handwash Facilities - Inaccessible, unavailable', 89),\n",
       " ('LACK OF REFIGERATIONS', 2),\n",
       " ('Improper sanitizing', 434),\n",
       " ('Complaint Not Substantiated', 12),\n",
       " ('Other Operations - Premises', 96),\n",
       " ('OTHER', 5),\n",
       " ('OBSERVATIONS', 11),\n",
       " ('Floors, Walls, Ceilings', 406),\n",
       " ('Warewashing facilities', 80),\n",
       " ('SEWAGE IN FACILITY', 5),\n",
       " ('Cooling, Heating Procedures', 57),\n",
       " ('Barehand Contact with ready to eat food', 41),\n",
       " ('Food unprotected', 425),\n",
       " ('Other Operations - Lighting', 142),\n",
       " ('Complaint Substantiated', 8),\n",
       " ('IMMEDIATE CLOSURE - IMMINENT HEALTH HAZARD', 9),\n",
       " ('OPERATING WITHOUT A VALID PERMIT', 61),\n",
       " ('Toxic Items- Improper Usage', 20),\n",
       " ('Notice Statement', 1),\n",
       " ('Cooking Temperatures', 6),\n",
       " ('Warewashing Thermometers/Test Kits not provided', 113),\n",
       " ('Poor Hygienic Practices- No hair restraints', 16),\n",
       " ('Improper use of wiping cloths', 124),\n",
       " ('Other Operations - Ventilation', 25),\n",
       " ('Adulterated food', 28),\n",
       " ('Toxic Items- Improper Labels', 44),\n",
       " ('Food dispensing utensils improperly stored', 97),\n",
       " ('Unapproved sewage and wastewater disposal', 18),\n",
       " ('Cross connection, back siphonage, backflow', 5),\n",
       " ('Evidence of insects', 42),\n",
       " ('Inadequate water source, Hot or cold', 42),\n",
       " ('Smoking, Eating, Drinking', 114),\n",
       " ('Personnel w/infection restricted/excluded', 6),\n",
       " ('No violations found at time of inspection.', 1),\n",
       " ('Other Operations - Personal Items', 48),\n",
       " ('Thermometers not provided, not accurate/consp', 183),\n",
       " ('NO HOT WATER', 5),\n",
       " ('OTHER - MISCELLEANOUS', 1),\n",
       " ('Evidence of rodents', 23),\n",
       " ('Other Operations - Living/Sleeping/Laundry', 10),\n",
       " ('Reheating Temp', 45),\n",
       " ('Food Cross Contamination', 33),\n",
       " ('Toilet room fixtures', 49),\n",
       " ('Poor Hygienic Practices- Soiled Clothing', 7),\n",
       " ('Unapproved Source', 14),\n",
       " ('Maintenance & Operation', 1),\n",
       " ('Garbage area improperly maintained or constructed', 24),\n",
       " ('Delivered Informational Brochure', 1657),\n",
       " ('Downgrade Statement', 15),\n",
       " ('Handwash Facilities - Inadequate', 18),\n",
       " ('No Violations Found', 3434),\n",
       " ('Cold Holding', 201),\n",
       " ('LACK OF REFRIGERATION', 3),\n",
       " ('Bent, swollen containers', 21),\n",
       " ('Insect, rodents, animals - Other', 9),\n",
       " ('Enough facilities to maintain product temps', 16)]"
      ]
     },
     "execution_count": 46,
     "metadata": {},
     "output_type": "execute_result"
    }
   ],
   "source": [
    "%%sql\n",
    "SELECT \"VIOLATION_DESC\", COUNT (\"FACILITY_NAME\")\n",
    "FROM inspection2010\n",
    "GROUP BY \"VIOLATION_DESC\";"
   ]
  },
  {
   "cell_type": "markdown",
   "metadata": {},
   "source": [
    "That's way too many violation. I would be very weary of eating out if I am ever in Albequerque. "
   ]
  },
  {
   "cell_type": "markdown",
   "metadata": {},
   "source": [
    "Now, not all the violations are major. Some are minor, like 'toilet fixture', which does not pose any threat."
   ]
  },
  {
   "cell_type": "code",
   "execution_count": 44,
   "metadata": {
    "collapsed": false
   },
   "outputs": [
    {
     "name": "stdout",
     "output_type": "stream",
     "text": [
      "7 rows affected.\n"
     ]
    },
    {
     "data": {
      "text/html": [
       "<table>\n",
       "    <tr>\n",
       "        <th>FACILITY_NAME</th>\n",
       "    </tr>\n",
       "    <tr>\n",
       "        <td>GRAHAM CENTRAL STATION</td>\n",
       "    </tr>\n",
       "    <tr>\n",
       "        <td>VILLA PIZZA INC</td>\n",
       "    </tr>\n",
       "    <tr>\n",
       "        <td>CHICHARRONERIA DON CHOCHE</td>\n",
       "    </tr>\n",
       "    <tr>\n",
       "        <td>99 BANH SUPERMARKET</td>\n",
       "    </tr>\n",
       "    <tr>\n",
       "        <td>OOB ROSYS</td>\n",
       "    </tr>\n",
       "    <tr>\n",
       "        <td>OOB MARKET FRESH CAFE</td>\n",
       "    </tr>\n",
       "    <tr>\n",
       "        <td>OOB PERICOS ACAPULCO</td>\n",
       "    </tr>\n",
       "</table>"
      ],
      "text/plain": [
       "[('GRAHAM CENTRAL STATION',),\n",
       " ('VILLA PIZZA INC',),\n",
       " ('CHICHARRONERIA DON CHOCHE',),\n",
       " ('99 BANH SUPERMARKET',),\n",
       " ('OOB ROSYS',),\n",
       " ('OOB MARKET FRESH CAFE',),\n",
       " ('OOB PERICOS ACAPULCO',)]"
      ]
     },
     "execution_count": 44,
     "metadata": {},
     "output_type": "execute_result"
    }
   ],
   "source": [
    "%%sql\n",
    "SELECT DISTINCT \"FACILITY_NAME\"\n",
    "FROM inspection2010\n",
    "WHERE \"RESULT_DESC\" LIKE '%CLOSURE%';"
   ]
  },
  {
   "cell_type": "markdown",
   "metadata": {},
   "source": [
    "Here, we identified the restaurants which have been marked to be closed immediately. No we know what to avoid if we are in Albequereue. "
   ]
  },
  {
   "cell_type": "code",
   "execution_count": 53,
   "metadata": {
    "collapsed": false
   },
   "outputs": [
    {
     "name": "stdout",
     "output_type": "stream",
     "text": [
      "6 rows affected.\n"
     ]
    },
    {
     "data": {
      "text/html": [
       "<table>\n",
       "    <tr>\n",
       "        <th>FACILITY_NAME</th>\n",
       "    </tr>\n",
       "    <tr>\n",
       "        <td>VILLA PIZZA INC</td>\n",
       "    </tr>\n",
       "    <tr>\n",
       "        <td>CHICHARRONERIA DON CHOCHE</td>\n",
       "    </tr>\n",
       "    <tr>\n",
       "        <td>99 BANH SUPERMARKET</td>\n",
       "    </tr>\n",
       "    <tr>\n",
       "        <td>OOB ROSYS</td>\n",
       "    </tr>\n",
       "    <tr>\n",
       "        <td>OOB MARKET FRESH CAFE</td>\n",
       "    </tr>\n",
       "    <tr>\n",
       "        <td>OOB PERICOS ACAPULCO</td>\n",
       "    </tr>\n",
       "</table>"
      ],
      "text/plain": [
       "[('VILLA PIZZA INC',),\n",
       " ('CHICHARRONERIA DON CHOCHE',),\n",
       " ('99 BANH SUPERMARKET',),\n",
       " ('OOB ROSYS',),\n",
       " ('OOB MARKET FRESH CAFE',),\n",
       " ('OOB PERICOS ACAPULCO',)]"
      ]
     },
     "execution_count": 53,
     "metadata": {},
     "output_type": "execute_result"
    }
   ],
   "source": [
    "%%sql\n",
    "SELECT DISTINCT \"FACILITY_NAME\"\n",
    "FROM inspection2010\n",
    "WHERE \"VIOLATION_DESC\" = 'IMMEDIATE CLOSURE - IMMINENT HEALTH HAZARD'"
   ]
  },
  {
   "cell_type": "markdown",
   "metadata": {},
   "source": [
    "If you notice these are the same restaurants we found as above, where the result desicion was closure. These pose imminnent danger to the public and should be avoided. "
   ]
  },
  {
   "cell_type": "code",
   "execution_count": 59,
   "metadata": {
    "collapsed": false
   },
   "outputs": [
    {
     "name": "stdout",
     "output_type": "stream",
     "text": [
      "1 rows affected.\n"
     ]
    },
    {
     "data": {
      "text/html": [
       "<table>\n",
       "    <tr>\n",
       "        <th>count</th>\n",
       "    </tr>\n",
       "    <tr>\n",
       "        <td>16547</td>\n",
       "    </tr>\n",
       "</table>"
      ],
      "text/plain": [
       "[(16547,)]"
      ]
     },
     "execution_count": 59,
     "metadata": {},
     "output_type": "execute_result"
    }
   ],
   "source": [
    "%%sql\n",
    "SELECT COUNT(\"VIOLATION_DESC\")\n",
    "FROM inspection2010;"
   ]
  },
  {
   "cell_type": "markdown",
   "metadata": {},
   "source": [
    "Here we can see that out of the 17556 rows, 16547 have some violation. Out of which, 3434 have no violations. This brings us to (16547-3434)/17556 = 0.746 or ~75% of restaurants in Albequerque had some violations agaisnt them in FY2010. It is best to avoid eating out at these places if you are ever in the area. "
   ]
  },
  {
   "cell_type": "markdown",
   "metadata": {},
   "source": [
    "Also, it looks like all unique facilitties have corresponding result and violation, which was my initial concern. "
   ]
  },
  {
   "cell_type": "markdown",
   "metadata": {},
   "source": [
    "## Bonus (10 points)\n",
    "\n",
    "We have seen a few simple techniques for normalizing data in class.  Choose a column or set of columns that might be redundant and normalize them out to another table:\n",
    "\n",
    "* Identify the columns to normalize in the source data table\n",
    "* Create one or more new tables to hold the normalized records\n",
    "* Extract data into the new tables\n",
    "* Re-insert the new foreign key references from the new table into the source table"
   ]
  }
 ],
 "metadata": {
  "anaconda-cloud": {},
  "kernelspec": {
   "display_name": "Python 3",
   "language": "python",
   "name": "python3"
  },
  "language_info": {
   "codemirror_mode": {
    "name": "ipython",
    "version": 3
   },
   "file_extension": ".py",
   "mimetype": "text/x-python",
   "name": "python",
   "nbconvert_exporter": "python",
   "pygments_lexer": "ipython3",
   "version": "3.5.2"
  }
 },
 "nbformat": 4,
 "nbformat_minor": 1
}
